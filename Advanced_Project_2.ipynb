{
  "nbformat": 4,
  "nbformat_minor": 0,
  "metadata": {
    "colab": {
      "provenance": [],
      "authorship_tag": "ABX9TyMHQUE2na+ok7jl4m45DwY7",
      "include_colab_link": true
    },
    "kernelspec": {
      "name": "python3",
      "display_name": "Python 3"
    },
    "language_info": {
      "name": "python"
    }
  },
  "cells": [
    {
      "cell_type": "markdown",
      "metadata": {
        "id": "view-in-github",
        "colab_type": "text"
      },
      "source": [
        "<a href=\"https://colab.research.google.com/github/Rmiller01/Web-Scraper/blob/main/Advanced_Project_2.ipynb\" target=\"_parent\"><img src=\"https://colab.research.google.com/assets/colab-badge.svg\" alt=\"Open In Colab\"/></a>"
      ]
    },
    {
      "cell_type": "code",
      "execution_count": null,
      "metadata": {
        "id": "UhVMlqnt0gFt"
      },
      "outputs": [],
      "source": [
        "import pandas as pd\n",
        "import requests\n",
        "from bs4 import BeautifulSoup\n"
      ]
    },
    {
      "cell_type": "code",
      "source": [
        "Response = requests.get('https://btech-data-analytics.github.io/bridgerland-technical-college/bookstore.html').text"
      ],
      "metadata": {
        "id": "l9eIpTYW0hT-"
      },
      "execution_count": null,
      "outputs": []
    },
    {
      "cell_type": "code",
      "source": [
        "soup = BeautifulSoup(Response, 'html.parser')"
      ],
      "metadata": {
        "id": "fioboZrI0wKF"
      },
      "execution_count": null,
      "outputs": []
    },
    {
      "cell_type": "code",
      "source": [
        "soup.find('table').find_all('tr')"
      ],
      "metadata": {
        "id": "-P5LXbMfDB-H"
      },
      "execution_count": null,
      "outputs": []
    },
    {
      "cell_type": "code",
      "source": [
        "Topic = []\n",
        "Title  = []\n",
        "Author = []\n",
        "Pages = []\n",
        "Price = []\n",
        "\n",
        "\n",
        "for book in soup.find('table').find_all('tr', class_ = \"book\"):\n",
        "    Title.append(book.find_all('td')[1].text)\n",
        "    Author.append(book.find_all('td')[2].text)\n",
        "    Pages.append(book.find_all('td')[4].text)\n",
        "    Topic.append(book.find_all('td')[5].text)\n",
        "    Price.append(book.find_all('td')[6].text)\n",
        "\n"
      ],
      "metadata": {
        "id": "mr0F6B0Z4x8C"
      },
      "execution_count": null,
      "outputs": []
    },
    {
      "cell_type": "code",
      "source": [
        "df = pd.DataFrame({\n",
        " 'Author': Author,\n",
        " 'Title': Title,\n",
        " 'Topic': Topic,\n",
        " 'Pages': Pages,\n",
        " 'Price': Price\n",
        "\n",
        "})\n",
        "df.info()"
      ],
      "metadata": {
        "id": "GoYYMPXT5NEh"
      },
      "execution_count": null,
      "outputs": []
    },
    {
      "cell_type": "code",
      "source": [
        "df.head(15)"
      ],
      "metadata": {
        "id": "OmI03QRyE_Q7"
      },
      "execution_count": null,
      "outputs": []
    },
    {
      "cell_type": "code",
      "source": [
        "grouped = df.groupby('Author')\n",
        "\n",
        "book_counts = grouped['Title'].count()\n",
        "\n",
        "author_with_most_books = book_counts[book_counts == book_counts.max()]\n",
        "\n",
        "print(f\"Author with the most books:{author_with_most_books}\")\n"
      ],
      "metadata": {
        "id": "25ksz3eeGFaS"
      },
      "execution_count": null,
      "outputs": []
    },
    {
      "cell_type": "code",
      "source": [
        "def most_popular_topic(df):\n",
        "\n",
        "    topic_counts = df.groupby('Topic')['Title'].count()\n",
        "\n",
        "    popular_topics = topic_counts[topic_counts == topic_counts.max()]\n",
        "\n",
        "    return popular_topics.index.tolist()\n",
        "\n",
        "result = most_popular_topic(df)\n",
        "print(f\"The most popular topic: {result}\")"
      ],
      "metadata": {
        "id": "CcsaxdklMnAf"
      },
      "execution_count": null,
      "outputs": []
    },
    {
      "cell_type": "code",
      "source": [
        "def convert_price(price_str):#This is part one of Question 3\n",
        "\n",
        "    return float(price_str.replace('$', ''))\n",
        "\n",
        "df['Price'] = df['Price'].apply(convert_price)"
      ],
      "metadata": {
        "id": "aRe3HSqvMPDD"
      },
      "execution_count": null,
      "outputs": []
    },
    {
      "cell_type": "code",
      "source": [
        "def most_expensive_topic(df):#This is part two of Question 3\n",
        "\n",
        "    average_prices = df.groupby('Topic')['Price'].mean()\n",
        "\n",
        "    most_expensive_topics = average_prices[average_prices == average_prices.max()]\n",
        "\n",
        "    return most_expensive_topics.index.tolist()\n",
        "\n",
        "result = most_expensive_topic(df)\n",
        "print(f\"The most expensive topic(s) on average: {result}\")"
      ],
      "metadata": {
        "id": "MpGJKt2pI3jC"
      },
      "execution_count": null,
      "outputs": []
    },
    {
      "cell_type": "code",
      "source": [
        "def topic_with_most_pages(df):\n",
        "\n",
        "    average_pages = df.groupby('Topic')['Pages'].mean()\n",
        "\n",
        "    most_pages_topics = average_pages[average_pages == average_pages.max()]\n",
        "\n",
        "    return most_pages_topics.index.tolist()\n",
        "\n",
        "result = topic_with_most_pages(df)\n",
        "print(f\"The topic with the most pages on average: {result}\")"
      ],
      "metadata": {
        "id": "-PCozkwDMadR"
      },
      "execution_count": null,
      "outputs": []
    }
  ]
}